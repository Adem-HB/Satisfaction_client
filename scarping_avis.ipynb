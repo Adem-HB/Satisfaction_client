{
  "nbformat": 4,
  "nbformat_minor": 0,
  "metadata": {
    "colab": {
      "provenance": [],
      "authorship_tag": "ABX9TyMiUL6cTjXF161ZeHgk4/b3",
      "include_colab_link": true
    },
    "kernelspec": {
      "name": "python3",
      "display_name": "Python 3"
    },
    "language_info": {
      "name": "python"
    }
  },
  "cells": [
    {
      "cell_type": "markdown",
      "metadata": {
        "id": "view-in-github",
        "colab_type": "text"
      },
      "source": [
        "<a href=\"https://colab.research.google.com/github/Adem-HB/Satisfaction_client/blob/main/scarping_avis.ipynb\" target=\"_parent\"><img src=\"https://colab.research.google.com/assets/colab-badge.svg\" alt=\"Open In Colab\"/></a>"
      ]
    },
    {
      "cell_type": "code",
      "execution_count": 1,
      "metadata": {
        "id": "IR_-Mxjkzg7a"
      },
      "outputs": [],
      "source": [
        "import requests\n",
        "import pdb\n",
        "import re\n",
        "import os\n",
        "import random\n",
        "from bs4 import BeautifulSoup\n",
        "import numpy as np\n",
        "import matplotlib.pyplot as plt\n",
        "import pandas as pd"
      ]
    },
    {
      "cell_type": "code",
      "source": [
        "headers = {\"User-Agent\": \"Mozilla/5.0 (X11; Linux x86_64; rv:109.0) Gecko/20100101 Firefox/115.0\"}\n",
        "base_url = 'https://fr.trustpilot.com/review/troicet.com'"
      ],
      "metadata": {
        "id": "Bmclr1B9zowm"
      },
      "execution_count": 2,
      "outputs": []
    },
    {
      "cell_type": "code",
      "source": [
        "def fetch_url(url, headers, max_attempts=10):\n",
        "    for attempt in range(max_attempts):\n",
        "        timeout = random.randint(1, 10)\n",
        "        try:\n",
        "            response = requests.get(url, headers=headers, timeout=timeout)\n",
        "            response.raise_for_status()  # Raise en exception pour les HTTP erreurs\n",
        "            print(f'Successfully fetched {url}')\n",
        "            return response\n",
        "        except requests.RequestException as e:\n",
        "            print(f'Attempt {attempt + 1} failed for {url} with timeout {timeout}: {e}')\n",
        "    return None"
      ],
      "metadata": {
        "id": "zd20r2T6z6-N"
      },
      "execution_count": 3,
      "outputs": []
    },
    {
      "cell_type": "code",
      "source": [
        "response = fetch_url(base_url, headers)\n",
        "contenu = response.text"
      ],
      "metadata": {
        "colab": {
          "base_uri": "https://localhost:8080/"
        },
        "id": "hLKpB_Jcz7Ur",
        "outputId": "356919a2-3222-48c7-a6ff-f658c3e6ef62"
      },
      "execution_count": 4,
      "outputs": [
        {
          "output_type": "stream",
          "name": "stdout",
          "text": [
            "Successfully fetched https://fr.trustpilot.com/review/troicet.com\n"
          ]
        }
      ]
    },
    {
      "cell_type": "code",
      "source": [
        "def extract_comments_and_total(contenu):\n",
        "    comments = re.findall('\"reviewBody\":\"(.*?)\"', contenu)\n",
        "    # Exemple : il faut peut-être ajuster le pattern selon la page réelle\n",
        "    nb_views = re.search(r\"(?:[\\d\\s]+) sur ([\\d\\s]+) avis\", contenu)\n",
        "    nb_views = int(nb_views.group(1).replace('\\u202f', '').replace(' ', ''))\n",
        "\n",
        "    return comments, nb_views\n"
      ],
      "metadata": {
        "id": "R__2OFmpz70N"
      },
      "execution_count": 5,
      "outputs": []
    },
    {
      "cell_type": "code",
      "source": [
        "# Page 1\n",
        "import math\n",
        "\n",
        "comments, total_reviews = extract_comments_and_total(contenu)\n",
        "\n",
        "all_comments = comments.copy()\n",
        "\n",
        "if total_reviews:\n",
        "    total_pages = math.ceil(total_reviews / 20)\n",
        "else:\n",
        "    total_pages = 1\n",
        "\n",
        "print(f\"Nombre total d'avis : {total_reviews} => {total_pages} pages estimées.\")\n",
        "\n",
        "# Pages 2 à total_pages\n",
        "for page in range(2, total_pages + 1):\n",
        "    url = f\"{base_url}?page={page}\"\n",
        "    page_comments = re.findall(r'\"reviewBody\":\"(.*?)\"', response.text)\n",
        "    if not page_comments:\n",
        "        print(f\"Aucun commentaire trouvé à la page {page}, arrêt.\")\n",
        "        break\n",
        "    all_comments.extend(page_comments)\n",
        "    print(f\"Page {page} : {len(page_comments)} commentaires trouvés.\")\n",
        "\n",
        "print(f\"\\nTotal de commentaires récupérés : {len(all_comments)}\")"
      ],
      "metadata": {
        "colab": {
          "base_uri": "https://localhost:8080/"
        },
        "id": "XEwzEGI3EGui",
        "outputId": "9a7544dd-bf4b-42d2-ef8f-4b2f2be0150e"
      },
      "execution_count": 6,
      "outputs": [
        {
          "output_type": "stream",
          "name": "stdout",
          "text": [
            "Nombre total d'avis : 59 => 3 pages estimées.\n",
            "Page 2 : 20 commentaires trouvés.\n",
            "Page 3 : 20 commentaires trouvés.\n",
            "\n",
            "Total de commentaires récupérés : 60\n"
          ]
        }
      ]
    },
    {
      "cell_type": "code",
      "source": [
        "all_comments"
      ],
      "metadata": {
        "colab": {
          "base_uri": "https://localhost:8080/"
        },
        "id": "vowCfbrVTd91",
        "outputId": "446ea12e-e120-4e66-f67e-5a4ef38bbfaf"
      },
      "execution_count": 8,
      "outputs": [
        {
          "output_type": "execute_result",
          "data": {
            "text/plain": [
              "['Ras parfait',\n",
              " 'Achat de 1500€ de paires, jamais recues, et jamais remboursées. ',\n",
              " 'Arnaque , paires jamais reçues , plusieurs dunks panda ,',\n",
              " \"Achat de plus de 1 500 euros de sneakers, aucune paire reçue ! À éviter !!! voir même à fuir d'urgence\",\n",
              " 'Envoie rapide chaussures en parfaite état. Je recommande 😊',\n",
              " \"je suis très mécontente du suivi de ma commande. En période en Noel, j'ai demandé un échange avec 3 jours de retard et on me l'a refusé . Je ne recommande absolument pas ce site qui ne se soucie absolument pas de satisfaire ses clients .\",\n",
              " 'Rapidité, conformité... je recommande ! nous sommes très satisfaits du produit.Merci beaucoup',\n",
              " \"J'ai réussi à trouver une paire qui m'as était très compliqué à trouver !Super service client merci Anna pour la réactivité 😉\",\n",
              " 'Site sérieux et fiable. L’article met un peu plus de temps à partir des locaux que sur d’autres sites mais Troicet prend le temps de vérifier l’authenticité du produit et le livre avec son certificat.Je le conseille à tous.',\n",
              " 'Livraison dans les temps. Pas de problème.',\n",
              " \"Tout était parfait ! La fluidité du site, le choix des produits et leurs tailles. L'efficacité de la commande, de la livraison. La communication tout au long du suivi et l'authentification du produit.C'est pro.Ils sont juste au top!\",\n",
              " 'J’ai enfin réussi à obtenir les baskets que je rêvais d’avoir. Merci infiniment à Anna du service client qui a suivi avec énormément de soins cette commande.',\n",
              " 'Produit correspond mais livraison très lente',\n",
              " \"j'ai commandé une paire d'Adidas Campus d'une taille trop grande. J'ai contacté le service client qui a été très réactif. Ils se sont adaptés à ma demande et j'ai pu échanger avec une nouvelle paire à ma taille :)Les baskets sont de très bonne qualité. Je suis super ravie de cette expérience d'achat chez TROICET. Je recommande sans aucune hésitation.\",\n",
              " 'Tout était parfait, clair, délais respectés, produits conformes à la commande !!',\n",
              " \"Les paires que j'ai acheté était dans un états neuf irréprochable, le vendeur est très gentil et répond vite, l'envoie des paires c'est effectué très rapidement (moins de 2h), je recommande fortement !\",\n",
              " 'Super expérience avec cette marque ou j’ai pu acheter ma nouvelle paire de chaussures. La réception s’est fait très rapidement, je recommande vivement !',\n",
              " 'Très contente de mon achat ! Équipe Troicet à l’écoute et disponible !',\n",
              " 'Réactivité service client excellent.Produit conforme à la commande neuf et authentique.',\n",
              " 'Chaussure de qualité et suivi précis.La réception peut être un peu longue car ils passent par mondial relay et non par La Poste mais sinon tout bien',\n",
              " 'Ras parfait',\n",
              " 'Achat de 1500€ de paires, jamais recues, et jamais remboursées. ',\n",
              " 'Arnaque , paires jamais reçues , plusieurs dunks panda ,',\n",
              " \"Achat de plus de 1 500 euros de sneakers, aucune paire reçue ! À éviter !!! voir même à fuir d'urgence\",\n",
              " 'Envoie rapide chaussures en parfaite état. Je recommande 😊',\n",
              " \"je suis très mécontente du suivi de ma commande. En période en Noel, j'ai demandé un échange avec 3 jours de retard et on me l'a refusé . Je ne recommande absolument pas ce site qui ne se soucie absolument pas de satisfaire ses clients .\",\n",
              " 'Rapidité, conformité... je recommande ! nous sommes très satisfaits du produit.Merci beaucoup',\n",
              " \"J'ai réussi à trouver une paire qui m'as était très compliqué à trouver !Super service client merci Anna pour la réactivité 😉\",\n",
              " 'Site sérieux et fiable. L’article met un peu plus de temps à partir des locaux que sur d’autres sites mais Troicet prend le temps de vérifier l’authenticité du produit et le livre avec son certificat.Je le conseille à tous.',\n",
              " 'Livraison dans les temps. Pas de problème.',\n",
              " \"Tout était parfait ! La fluidité du site, le choix des produits et leurs tailles. L'efficacité de la commande, de la livraison. La communication tout au long du suivi et l'authentification du produit.C'est pro.Ils sont juste au top!\",\n",
              " 'J’ai enfin réussi à obtenir les baskets que je rêvais d’avoir. Merci infiniment à Anna du service client qui a suivi avec énormément de soins cette commande.',\n",
              " 'Produit correspond mais livraison très lente',\n",
              " \"j'ai commandé une paire d'Adidas Campus d'une taille trop grande. J'ai contacté le service client qui a été très réactif. Ils se sont adaptés à ma demande et j'ai pu échanger avec une nouvelle paire à ma taille :)Les baskets sont de très bonne qualité. Je suis super ravie de cette expérience d'achat chez TROICET. Je recommande sans aucune hésitation.\",\n",
              " 'Tout était parfait, clair, délais respectés, produits conformes à la commande !!',\n",
              " \"Les paires que j'ai acheté était dans un états neuf irréprochable, le vendeur est très gentil et répond vite, l'envoie des paires c'est effectué très rapidement (moins de 2h), je recommande fortement !\",\n",
              " 'Super expérience avec cette marque ou j’ai pu acheter ma nouvelle paire de chaussures. La réception s’est fait très rapidement, je recommande vivement !',\n",
              " 'Très contente de mon achat ! Équipe Troicet à l’écoute et disponible !',\n",
              " 'Réactivité service client excellent.Produit conforme à la commande neuf et authentique.',\n",
              " 'Chaussure de qualité et suivi précis.La réception peut être un peu longue car ils passent par mondial relay et non par La Poste mais sinon tout bien',\n",
              " 'Ras parfait',\n",
              " 'Achat de 1500€ de paires, jamais recues, et jamais remboursées. ',\n",
              " 'Arnaque , paires jamais reçues , plusieurs dunks panda ,',\n",
              " \"Achat de plus de 1 500 euros de sneakers, aucune paire reçue ! À éviter !!! voir même à fuir d'urgence\",\n",
              " 'Envoie rapide chaussures en parfaite état. Je recommande 😊',\n",
              " \"je suis très mécontente du suivi de ma commande. En période en Noel, j'ai demandé un échange avec 3 jours de retard et on me l'a refusé . Je ne recommande absolument pas ce site qui ne se soucie absolument pas de satisfaire ses clients .\",\n",
              " 'Rapidité, conformité... je recommande ! nous sommes très satisfaits du produit.Merci beaucoup',\n",
              " \"J'ai réussi à trouver une paire qui m'as était très compliqué à trouver !Super service client merci Anna pour la réactivité 😉\",\n",
              " 'Site sérieux et fiable. L’article met un peu plus de temps à partir des locaux que sur d’autres sites mais Troicet prend le temps de vérifier l’authenticité du produit et le livre avec son certificat.Je le conseille à tous.',\n",
              " 'Livraison dans les temps. Pas de problème.',\n",
              " \"Tout était parfait ! La fluidité du site, le choix des produits et leurs tailles. L'efficacité de la commande, de la livraison. La communication tout au long du suivi et l'authentification du produit.C'est pro.Ils sont juste au top!\",\n",
              " 'J’ai enfin réussi à obtenir les baskets que je rêvais d’avoir. Merci infiniment à Anna du service client qui a suivi avec énormément de soins cette commande.',\n",
              " 'Produit correspond mais livraison très lente',\n",
              " \"j'ai commandé une paire d'Adidas Campus d'une taille trop grande. J'ai contacté le service client qui a été très réactif. Ils se sont adaptés à ma demande et j'ai pu échanger avec une nouvelle paire à ma taille :)Les baskets sont de très bonne qualité. Je suis super ravie de cette expérience d'achat chez TROICET. Je recommande sans aucune hésitation.\",\n",
              " 'Tout était parfait, clair, délais respectés, produits conformes à la commande !!',\n",
              " \"Les paires que j'ai acheté était dans un états neuf irréprochable, le vendeur est très gentil et répond vite, l'envoie des paires c'est effectué très rapidement (moins de 2h), je recommande fortement !\",\n",
              " 'Super expérience avec cette marque ou j’ai pu acheter ma nouvelle paire de chaussures. La réception s’est fait très rapidement, je recommande vivement !',\n",
              " 'Très contente de mon achat ! Équipe Troicet à l’écoute et disponible !',\n",
              " 'Réactivité service client excellent.Produit conforme à la commande neuf et authentique.',\n",
              " 'Chaussure de qualité et suivi précis.La réception peut être un peu longue car ils passent par mondial relay et non par La Poste mais sinon tout bien']"
            ]
          },
          "metadata": {},
          "execution_count": 8
        }
      ]
    }
  ]
}